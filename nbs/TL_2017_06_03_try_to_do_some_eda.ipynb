{
 "cells": [
  {
   "cell_type": "markdown",
   "metadata": {},
   "source": [
    "# Preamble"
   ]
  },
  {
   "cell_type": "code",
   "execution_count": 92,
   "metadata": {},
   "outputs": [
    {
     "name": "stdout",
     "output_type": "stream",
     "text": [
      "Populating the interactive namespace from numpy and matplotlib\n"
     ]
    }
   ],
   "source": [
    "% pylab inline"
   ]
  },
  {
   "cell_type": "code",
   "execution_count": 93,
   "metadata": {
    "collapsed": true
   },
   "outputs": [],
   "source": [
    "import scipy.sparse as ss"
   ]
  },
  {
   "cell_type": "code",
   "execution_count": 94,
   "metadata": {
    "collapsed": true
   },
   "outputs": [],
   "source": [
    "import itertools\n",
    "import os\n",
    "import pandas as pd"
   ]
  },
  {
   "cell_type": "code",
   "execution_count": 95,
   "metadata": {
    "collapsed": true
   },
   "outputs": [],
   "source": [
    "import sklearn.metrics as skm\n",
    "\n",
    "from sklearn.model_selection import train_test_split"
   ]
  },
  {
   "cell_type": "code",
   "execution_count": 96,
   "metadata": {
    "collapsed": true
   },
   "outputs": [],
   "source": [
    "from code.constants import PROJECT_ROOT\n",
    "from code.helpers import _FILES"
   ]
  },
  {
   "cell_type": "code",
   "execution_count": 97,
   "metadata": {
    "collapsed": true
   },
   "outputs": [],
   "source": [
    "from tqdm import tqdm as tqdm"
   ]
  },
  {
   "cell_type": "markdown",
   "metadata": {},
   "source": [
    "# Load data"
   ]
  },
  {
   "cell_type": "code",
   "execution_count": 98,
   "metadata": {
    "collapsed": true
   },
   "outputs": [],
   "source": [
    "orders_prior = pd.read_hdf('../data/data.hd5', 'orders_prior')\n",
    "orders_train = pd.read_hdf('../data/data.hd5', 'orders_train')"
   ]
  },
  {
   "cell_type": "code",
   "execution_count": 99,
   "metadata": {},
   "outputs": [],
   "source": [
    "orders_meta = pd.read_csv(_FILES['orders_meta'])"
   ]
  },
  {
   "cell_type": "code",
   "execution_count": 100,
   "metadata": {
    "collapsed": true
   },
   "outputs": [],
   "source": [
    "sample_submission = pd.read_csv(_FILES['samples_submission'])"
   ]
  },
  {
   "cell_type": "code",
   "execution_count": 101,
   "metadata": {
    "collapsed": true
   },
   "outputs": [],
   "source": [
    "products = pd.read_csv(_FILES['products'])"
   ]
  },
  {
   "cell_type": "markdown",
   "metadata": {},
   "source": [
    "# Look for variation in..."
   ]
  },
  {
   "cell_type": "markdown",
   "metadata": {},
   "source": [
    "#### Size of every purchase (work my way back in to the data sloooowly)"
   ]
  },
  {
   "cell_type": "markdown",
   "metadata": {},
   "source": [
    "Across all orders"
   ]
  },
  {
   "cell_type": "code",
   "execution_count": 102,
   "metadata": {
    "collapsed": true
   },
   "outputs": [],
   "source": [
    "orders_prior = orders_prior.merge(orders_meta[['order_id', 'user_id']]) "
   ]
  },
  {
   "cell_type": "code",
   "execution_count": 103,
   "metadata": {
    "collapsed": true
   },
   "outputs": [],
   "source": [
    "count_orders = orders_prior.groupby(['order_id', 'user_id']).size()"
   ]
  },
  {
   "cell_type": "code",
   "execution_count": 104,
   "metadata": {},
   "outputs": [
    {
     "data": {
      "text/html": [
       "<div>\n",
       "<table border=\"1\" class=\"dataframe\">\n",
       "  <thead>\n",
       "    <tr style=\"text-align: right;\">\n",
       "      <th></th>\n",
       "      <th>0.0</th>\n",
       "      <th>0.1</th>\n",
       "      <th>0.2</th>\n",
       "      <th>0.3</th>\n",
       "      <th>0.4</th>\n",
       "      <th>0.5</th>\n",
       "      <th>0.6</th>\n",
       "      <th>0.7</th>\n",
       "      <th>0.8</th>\n",
       "      <th>0.9</th>\n",
       "      <th>1.0</th>\n",
       "    </tr>\n",
       "  </thead>\n",
       "  <tbody>\n",
       "    <tr>\n",
       "      <th>0</th>\n",
       "      <td>1.0</td>\n",
       "      <td>2.0</td>\n",
       "      <td>4.0</td>\n",
       "      <td>5.0</td>\n",
       "      <td>7.0</td>\n",
       "      <td>8.0</td>\n",
       "      <td>10.0</td>\n",
       "      <td>12.0</td>\n",
       "      <td>15.0</td>\n",
       "      <td>20.0</td>\n",
       "      <td>145.0</td>\n",
       "    </tr>\n",
       "  </tbody>\n",
       "</table>\n",
       "</div>"
      ],
      "text/plain": [
       "   0.0  0.1  0.2  0.3  0.4  0.5   0.6   0.7   0.8   0.9    1.0\n",
       "0  1.0  2.0  4.0  5.0  7.0  8.0  10.0  12.0  15.0  20.0  145.0"
      ]
     },
     "execution_count": 104,
     "metadata": {},
     "output_type": "execute_result"
    }
   ],
   "source": [
    "count_orders.quantile(np.linspace(0, 1, 11)).to_frame().T"
   ]
  },
  {
   "cell_type": "markdown",
   "metadata": {},
   "source": [
    "Across users"
   ]
  },
  {
   "cell_type": "code",
   "execution_count": 105,
   "metadata": {
    "collapsed": true
   },
   "outputs": [],
   "source": [
    "count_orders_by_user = count_orders.groupby(level=['user_id']).mean()"
   ]
  },
  {
   "cell_type": "code",
   "execution_count": 106,
   "metadata": {},
   "outputs": [
    {
     "data": {
      "text/html": [
       "<div>\n",
       "<table border=\"1\" class=\"dataframe\">\n",
       "  <thead>\n",
       "    <tr style=\"text-align: right;\">\n",
       "      <th></th>\n",
       "      <th>0.0</th>\n",
       "      <th>0.1</th>\n",
       "      <th>0.2</th>\n",
       "      <th>0.3</th>\n",
       "      <th>0.4</th>\n",
       "      <th>0.5</th>\n",
       "      <th>0.6</th>\n",
       "      <th>0.7</th>\n",
       "      <th>0.8</th>\n",
       "      <th>0.9</th>\n",
       "      <th>1.0</th>\n",
       "    </tr>\n",
       "  </thead>\n",
       "  <tbody>\n",
       "    <tr>\n",
       "      <th>0</th>\n",
       "      <td>1.0</td>\n",
       "      <td>3.4</td>\n",
       "      <td>5.0</td>\n",
       "      <td>6.39</td>\n",
       "      <td>7.67</td>\n",
       "      <td>8.93</td>\n",
       "      <td>10.33</td>\n",
       "      <td>12.0</td>\n",
       "      <td>14.16</td>\n",
       "      <td>17.67</td>\n",
       "      <td>70.25</td>\n",
       "    </tr>\n",
       "  </tbody>\n",
       "</table>\n",
       "</div>"
      ],
      "text/plain": [
       "   0.0  0.1  0.2   0.3   0.4   0.5    0.6   0.7    0.8    0.9    1.0\n",
       "0  1.0  3.4  5.0  6.39  7.67  8.93  10.33  12.0  14.16  17.67  70.25"
      ]
     },
     "execution_count": 106,
     "metadata": {},
     "output_type": "execute_result"
    }
   ],
   "source": [
    "count_orders_by_user.quantile(np.linspace(0, 1, 11)).to_frame().T.round(2)"
   ]
  },
  {
   "cell_type": "markdown",
   "metadata": {},
   "source": [
    "#### Frac of reordered items?"
   ]
  },
  {
   "cell_type": "markdown",
   "metadata": {},
   "source": [
    "Across all orders"
   ]
  },
  {
   "cell_type": "code",
   "execution_count": 107,
   "metadata": {
    "collapsed": true
   },
   "outputs": [],
   "source": [
    "count_reordered = orders_prior.groupby(['order_id', 'user_id'])['reordered'].sum()"
   ]
  },
  {
   "cell_type": "code",
   "execution_count": 108,
   "metadata": {
    "collapsed": true
   },
   "outputs": [],
   "source": [
    "frac_reordered = count_reordered / count_orders"
   ]
  },
  {
   "cell_type": "code",
   "execution_count": 109,
   "metadata": {},
   "outputs": [
    {
     "data": {
      "text/html": [
       "<div>\n",
       "<table border=\"1\" class=\"dataframe\">\n",
       "  <thead>\n",
       "    <tr style=\"text-align: right;\">\n",
       "      <th></th>\n",
       "      <th>0.0</th>\n",
       "      <th>0.1</th>\n",
       "      <th>0.2</th>\n",
       "      <th>0.3</th>\n",
       "      <th>0.4</th>\n",
       "      <th>0.5</th>\n",
       "      <th>0.6</th>\n",
       "      <th>0.7</th>\n",
       "      <th>0.8</th>\n",
       "      <th>0.9</th>\n",
       "      <th>1.0</th>\n",
       "    </tr>\n",
       "  </thead>\n",
       "  <tbody>\n",
       "    <tr>\n",
       "      <th>0</th>\n",
       "      <td>0.0</td>\n",
       "      <td>0.0</td>\n",
       "      <td>0.25</td>\n",
       "      <td>0.42</td>\n",
       "      <td>0.53</td>\n",
       "      <td>0.67</td>\n",
       "      <td>0.75</td>\n",
       "      <td>0.86</td>\n",
       "      <td>1.0</td>\n",
       "      <td>1.0</td>\n",
       "      <td>1.0</td>\n",
       "    </tr>\n",
       "  </tbody>\n",
       "</table>\n",
       "</div>"
      ],
      "text/plain": [
       "   0.0  0.1   0.2   0.3   0.4   0.5   0.6   0.7  0.8  0.9  1.0\n",
       "0  0.0  0.0  0.25  0.42  0.53  0.67  0.75  0.86  1.0  1.0  1.0"
      ]
     },
     "execution_count": 109,
     "metadata": {},
     "output_type": "execute_result"
    }
   ],
   "source": [
    "frac_reordered.quantile(np.linspace(0, 1, 11)).to_frame().T.round(2)"
   ]
  },
  {
   "cell_type": "markdown",
   "metadata": {},
   "source": [
    "Grouping by users"
   ]
  },
  {
   "cell_type": "code",
   "execution_count": 110,
   "metadata": {
    "collapsed": true
   },
   "outputs": [],
   "source": [
    "frac_reordered_by_user = frac_reordered.groupby(level=['user_id']).mean()"
   ]
  },
  {
   "cell_type": "code",
   "execution_count": 111,
   "metadata": {},
   "outputs": [
    {
     "data": {
      "text/html": [
       "<div>\n",
       "<table border=\"1\" class=\"dataframe\">\n",
       "  <thead>\n",
       "    <tr style=\"text-align: right;\">\n",
       "      <th></th>\n",
       "      <th>0.0</th>\n",
       "      <th>0.1</th>\n",
       "      <th>0.2</th>\n",
       "      <th>0.3</th>\n",
       "      <th>0.4</th>\n",
       "      <th>0.5</th>\n",
       "      <th>0.6</th>\n",
       "      <th>0.7</th>\n",
       "      <th>0.8</th>\n",
       "      <th>0.9</th>\n",
       "      <th>1.0</th>\n",
       "    </tr>\n",
       "  </thead>\n",
       "  <tbody>\n",
       "    <tr>\n",
       "      <th>0</th>\n",
       "      <td>0.0</td>\n",
       "      <td>0.16</td>\n",
       "      <td>0.25</td>\n",
       "      <td>0.33</td>\n",
       "      <td>0.4</td>\n",
       "      <td>0.46</td>\n",
       "      <td>0.53</td>\n",
       "      <td>0.59</td>\n",
       "      <td>0.66</td>\n",
       "      <td>0.74</td>\n",
       "      <td>0.99</td>\n",
       "    </tr>\n",
       "  </tbody>\n",
       "</table>\n",
       "</div>"
      ],
      "text/plain": [
       "   0.0   0.1   0.2   0.3  0.4   0.5   0.6   0.7   0.8   0.9   1.0\n",
       "0  0.0  0.16  0.25  0.33  0.4  0.46  0.53  0.59  0.66  0.74  0.99"
      ]
     },
     "execution_count": 111,
     "metadata": {},
     "output_type": "execute_result"
    }
   ],
   "source": [
    "frac_reordered_by_user.quantile(np.linspace(0, 1, 11)).to_frame().T.round(2)"
   ]
  },
  {
   "cell_type": "markdown",
   "metadata": {},
   "source": [
    "#### Dependency on frac repeated against days since prior order?"
   ]
  },
  {
   "cell_type": "code",
   "execution_count": 112,
   "metadata": {
    "collapsed": true
   },
   "outputs": [],
   "source": [
    "frac_reordered_df = (frac_reordered.to_frame('frac_reordered').reset_index().drop('user_id', axis=1)\n",
    "                     .merge(orders_meta[['order_id', 'days_since_prior_order']]))"
   ]
  },
  {
   "cell_type": "code",
   "execution_count": 113,
   "metadata": {
    "collapsed": true
   },
   "outputs": [],
   "source": [
    "quantiles_by_day = (frac_reordered_df.groupby('days_since_prior_order')['frac_reordered']\n",
    "                    .apply(lambda _ss: _ss.quantile([0.25, 0.5, 0.75]))\n",
    "                    .unstack(1))"
   ]
  },
  {
   "cell_type": "code",
   "execution_count": 114,
   "metadata": {},
   "outputs": [
    {
     "data": {
      "text/plain": [
       "[<matplotlib.lines.Line2D at 0x15d4590d0>]"
      ]
     },
     "execution_count": 114,
     "metadata": {},
     "output_type": "execute_result"
    },
    {
     "data": {
      "image/png": "[encoded data removed]",
      "text/plain": [
       "<matplotlib.figure.Figure at 0x157a90d90>"
      ]
     },
     "metadata": {},
     "output_type": "display_data"
    }
   ],
   "source": [
    "_, ax = plt.subplots(1, 1, figsize=(10, 4))\n",
    "ax.plot(quantiles_by_day.iloc[:, 0], '-+')\n",
    "ax.plot(quantiles_by_day.iloc[:, 1], '-+')\n",
    "ax.plot(quantiles_by_day.iloc[:, 2], '-+')"
   ]
  },
  {
   "cell_type": "markdown",
   "metadata": {},
   "source": [
    "#### Consistency of days since prior order for each user?"
   ]
  },
  {
   "cell_type": "code",
   "execution_count": 115,
   "metadata": {},
   "outputs": [
    {
     "data": {
      "text/html": [
       "<div>\n",
       "<table border=\"1\" class=\"dataframe\">\n",
       "  <thead>\n",
       "    <tr style=\"text-align: right;\">\n",
       "      <th></th>\n",
       "      <th>0.0</th>\n",
       "      <th>0.1</th>\n",
       "      <th>0.2</th>\n",
       "      <th>0.3</th>\n",
       "      <th>0.4</th>\n",
       "      <th>0.5</th>\n",
       "      <th>0.6</th>\n",
       "      <th>0.7</th>\n",
       "      <th>0.8</th>\n",
       "      <th>0.9</th>\n",
       "      <th>1.0</th>\n",
       "    </tr>\n",
       "  </thead>\n",
       "  <tbody>\n",
       "    <tr>\n",
       "      <th>days_since_prior_order</th>\n",
       "      <td>0.0</td>\n",
       "      <td>6.67</td>\n",
       "      <td>8.76</td>\n",
       "      <td>10.85</td>\n",
       "      <td>12.92</td>\n",
       "      <td>15.0</td>\n",
       "      <td>17.07</td>\n",
       "      <td>19.36</td>\n",
       "      <td>22.0</td>\n",
       "      <td>25.14</td>\n",
       "      <td>30.0</td>\n",
       "    </tr>\n",
       "  </tbody>\n",
       "</table>\n",
       "</div>"
      ],
      "text/plain": [
       "                        0.0   0.1   0.2    0.3    0.4   0.5    0.6    0.7  \\\n",
       "days_since_prior_order  0.0  6.67  8.76  10.85  12.92  15.0  17.07  19.36   \n",
       "\n",
       "                         0.8    0.9   1.0  \n",
       "days_since_prior_order  22.0  25.14  30.0  "
      ]
     },
     "execution_count": 115,
     "metadata": {},
     "output_type": "execute_result"
    }
   ],
   "source": [
    "orders_meta.groupby('user_id')['days_since_prior_order'].mean().quantile(np.linspace(0, 1, 11)).to_frame().T.round(2)"
   ]
  },
  {
   "cell_type": "code",
   "execution_count": 116,
   "metadata": {},
   "outputs": [
    {
     "data": {
      "text/html": [
       "<div>\n",
       "<table border=\"1\" class=\"dataframe\">\n",
       "  <thead>\n",
       "    <tr style=\"text-align: right;\">\n",
       "      <th></th>\n",
       "      <th>0.0</th>\n",
       "      <th>0.1</th>\n",
       "      <th>0.2</th>\n",
       "      <th>0.3</th>\n",
       "      <th>0.4</th>\n",
       "      <th>0.5</th>\n",
       "      <th>0.6</th>\n",
       "      <th>0.7</th>\n",
       "      <th>0.8</th>\n",
       "      <th>0.9</th>\n",
       "      <th>1.0</th>\n",
       "    </tr>\n",
       "  </thead>\n",
       "  <tbody>\n",
       "    <tr>\n",
       "      <th>days_since_prior_order</th>\n",
       "      <td>0.0</td>\n",
       "      <td>2.89</td>\n",
       "      <td>4.62</td>\n",
       "      <td>6.06</td>\n",
       "      <td>7.21</td>\n",
       "      <td>8.12</td>\n",
       "      <td>8.91</td>\n",
       "      <td>9.66</td>\n",
       "      <td>10.49</td>\n",
       "      <td>11.63</td>\n",
       "      <td>17.32</td>\n",
       "    </tr>\n",
       "  </tbody>\n",
       "</table>\n",
       "</div>"
      ],
      "text/plain": [
       "                        0.0   0.1   0.2   0.3   0.4   0.5   0.6   0.7    0.8  \\\n",
       "days_since_prior_order  0.0  2.89  4.62  6.06  7.21  8.12  8.91  9.66  10.49   \n",
       "\n",
       "                          0.9    1.0  \n",
       "days_since_prior_order  11.63  17.32  "
      ]
     },
     "execution_count": 116,
     "metadata": {},
     "output_type": "execute_result"
    }
   ],
   "source": [
    "orders_meta.groupby('user_id')['days_since_prior_order'].std().quantile(np.linspace(0, 1, 11)).to_frame().T.round(2)"
   ]
  },
  {
   "cell_type": "code",
   "execution_count": 117,
   "metadata": {},
   "outputs": [
    {
     "data": {
      "text/plain": [
       "<matplotlib.axes._subplots.AxesSubplot at 0x15ad31510>"
      ]
     },
     "execution_count": 117,
     "metadata": {},
     "output_type": "execute_result"
    },
    {
     "data": {
      "image/png": "[encoded data removed]",
      "text/plain": [
       "<matplotlib.figure.Figure at 0x109a3ac50>"
      ]
     },
     "metadata": {},
     "output_type": "display_data"
    }
   ],
   "source": [
    "orders_meta['days_since_prior_order'].hist()"
   ]
  },
  {
   "cell_type": "markdown",
   "metadata": {},
   "source": [
    "#### Consistency of day of week?"
   ]
  },
  {
   "cell_type": "code",
   "execution_count": 118,
   "metadata": {},
   "outputs": [],
   "source": [
    "dow_counts = orders_meta.groupby(['user_id', 'order_dow']).size().unstack('order_dow')"
   ]
  },
  {
   "cell_type": "code",
   "execution_count": 119,
   "metadata": {},
   "outputs": [],
   "source": [
    "frac_dow_counts = dow_counts.fillna(0).div(dow_counts.sum(axis=1), axis=0)"
   ]
  },
  {
   "cell_type": "code",
   "execution_count": 133,
   "metadata": {},
   "outputs": [
    {
     "data": {
      "text/html": [
       "<div>\n",
       "<table border=\"1\" class=\"dataframe\">\n",
       "  <thead>\n",
       "    <tr style=\"text-align: right;\">\n",
       "      <th></th>\n",
       "      <th>0.9</th>\n",
       "      <th>0.91</th>\n",
       "      <th>0.92</th>\n",
       "      <th>0.93</th>\n",
       "      <th>0.94</th>\n",
       "      <th>0.95</th>\n",
       "      <th>0.96</th>\n",
       "      <th>0.97</th>\n",
       "      <th>0.98</th>\n",
       "      <th>0.99</th>\n",
       "      <th>1.0</th>\n",
       "    </tr>\n",
       "  </thead>\n",
       "  <tbody>\n",
       "    <tr>\n",
       "      <th>0</th>\n",
       "      <td>0.33</td>\n",
       "      <td>0.33</td>\n",
       "      <td>0.36</td>\n",
       "      <td>0.38</td>\n",
       "      <td>0.4</td>\n",
       "      <td>0.42</td>\n",
       "      <td>0.46</td>\n",
       "      <td>0.5</td>\n",
       "      <td>0.5</td>\n",
       "      <td>0.62</td>\n",
       "      <td>1.0</td>\n",
       "    </tr>\n",
       "  </tbody>\n",
       "</table>\n",
       "</div>"
      ],
      "text/plain": [
       "   0.90  0.91  0.92  0.93  0.94  0.95  0.96  0.97  0.98  0.99  1.00\n",
       "0  0.33  0.33  0.36  0.38   0.4  0.42  0.46   0.5   0.5  0.62   1.0"
      ]
     },
     "execution_count": 133,
     "metadata": {},
     "output_type": "execute_result"
    }
   ],
   "source": [
    "frac_dow_counts.stack().quantile(np.linspace(0.9, 1, 11)).to_frame().T.round(2)"
   ]
  },
  {
   "cell_type": "code",
   "execution_count": 140,
   "metadata": {},
   "outputs": [],
   "source": [
    "entropy_dow_counts = -1 * np.log(frac_dow_counts.replace(0, np.nan)).sum(axis=1)"
   ]
  },
  {
   "cell_type": "code",
   "execution_count": 143,
   "metadata": {},
   "outputs": [
    {
     "data": {
      "text/html": [
       "<div>\n",
       "<table border=\"1\" class=\"dataframe\">\n",
       "  <thead>\n",
       "    <tr style=\"text-align: right;\">\n",
       "      <th></th>\n",
       "      <th>0.0</th>\n",
       "      <th>0.1</th>\n",
       "      <th>0.2</th>\n",
       "      <th>0.3</th>\n",
       "      <th>0.4</th>\n",
       "      <th>0.5</th>\n",
       "      <th>0.6</th>\n",
       "      <th>0.7</th>\n",
       "      <th>0.8</th>\n",
       "      <th>0.9</th>\n",
       "      <th>1.0</th>\n",
       "    </tr>\n",
       "  </thead>\n",
       "  <tbody>\n",
       "    <tr>\n",
       "      <th>0</th>\n",
       "      <td>-0.0</td>\n",
       "      <td>3.47</td>\n",
       "      <td>4.11</td>\n",
       "      <td>5.78</td>\n",
       "      <td>6.71</td>\n",
       "      <td>8.55</td>\n",
       "      <td>10.0</td>\n",
       "      <td>11.62</td>\n",
       "      <td>13.95</td>\n",
       "      <td>14.62</td>\n",
       "      <td>21.89</td>\n",
       "    </tr>\n",
       "  </tbody>\n",
       "</table>\n",
       "</div>"
      ],
      "text/plain": [
       "   0.0   0.1   0.2   0.3   0.4   0.5   0.6    0.7    0.8    0.9    1.0\n",
       "0 -0.0  3.47  4.11  5.78  6.71  8.55  10.0  11.62  13.95  14.62  21.89"
      ]
     },
     "execution_count": 143,
     "metadata": {},
     "output_type": "execute_result"
    }
   ],
   "source": [
    "entropy_dow_counts.quantile(np.linspace(0, 1, 11)).to_frame().T.round(2)"
   ]
  },
  {
   "cell_type": "markdown",
   "metadata": {},
   "source": [
    "# Take a look at some user id sequences"
   ]
  },
  {
   "cell_type": "code",
   "execution_count": 186,
   "metadata": {},
   "outputs": [],
   "source": [
    "add_order_size = (count_orders.to_frame('order_size').reset_index()\n",
    "                  .merge(orders_meta)\n",
    "                  .reset_index(drop=True)\n",
    "                  .sort_values(['user_id', 'order_number']))"
   ]
  },
  {
   "cell_type": "code",
   "execution_count": 187,
   "metadata": {
    "collapsed": true
   },
   "outputs": [],
   "source": [
    "unique_orders = add_order_size['user_id'].unique()"
   ]
  },
  {
   "cell_type": "code",
   "execution_count": 199,
   "metadata": {},
   "outputs": [
    {
     "data": {
      "text/html": [
       "<div>\n",
       "<table border=\"1\" class=\"dataframe\">\n",
       "  <thead>\n",
       "    <tr style=\"text-align: right;\">\n",
       "      <th></th>\n",
       "      <th>order_id</th>\n",
       "      <th>user_id</th>\n",
       "      <th>order_size</th>\n",
       "      <th>eval_set</th>\n",
       "      <th>order_number</th>\n",
       "      <th>order_dow</th>\n",
       "      <th>order_hour_of_day</th>\n",
       "      <th>days_since_prior_order</th>\n",
       "    </tr>\n",
       "  </thead>\n",
       "  <tbody>\n",
       "    <tr>\n",
       "      <th>1168</th>\n",
       "      <td>1225</td>\n",
       "      <td>108832</td>\n",
       "      <td>3</td>\n",
       "      <td>prior</td>\n",
       "      <td>1</td>\n",
       "      <td>4</td>\n",
       "      <td>16</td>\n",
       "      <td>NaN</td>\n",
       "    </tr>\n",
       "    <tr>\n",
       "      <th>2474503</th>\n",
       "      <td>2633424</td>\n",
       "      <td>108832</td>\n",
       "      <td>10</td>\n",
       "      <td>prior</td>\n",
       "      <td>2</td>\n",
       "      <td>3</td>\n",
       "      <td>17</td>\n",
       "      <td>13.0</td>\n",
       "    </tr>\n",
       "    <tr>\n",
       "      <th>2074349</th>\n",
       "      <td>2207730</td>\n",
       "      <td>108832</td>\n",
       "      <td>7</td>\n",
       "      <td>prior</td>\n",
       "      <td>3</td>\n",
       "      <td>1</td>\n",
       "      <td>14</td>\n",
       "      <td>26.0</td>\n",
       "    </tr>\n",
       "    <tr>\n",
       "      <th>1618114</th>\n",
       "      <td>1722444</td>\n",
       "      <td>108832</td>\n",
       "      <td>4</td>\n",
       "      <td>prior</td>\n",
       "      <td>4</td>\n",
       "      <td>0</td>\n",
       "      <td>9</td>\n",
       "      <td>13.0</td>\n",
       "    </tr>\n",
       "    <tr>\n",
       "      <th>1818437</th>\n",
       "      <td>1935556</td>\n",
       "      <td>108832</td>\n",
       "      <td>10</td>\n",
       "      <td>prior</td>\n",
       "      <td>5</td>\n",
       "      <td>5</td>\n",
       "      <td>14</td>\n",
       "      <td>12.0</td>\n",
       "    </tr>\n",
       "    <tr>\n",
       "      <th>9591</th>\n",
       "      <td>10171</td>\n",
       "      <td>108832</td>\n",
       "      <td>9</td>\n",
       "      <td>prior</td>\n",
       "      <td>6</td>\n",
       "      <td>3</td>\n",
       "      <td>14</td>\n",
       "      <td>5.0</td>\n",
       "    </tr>\n",
       "    <tr>\n",
       "      <th>2875743</th>\n",
       "      <td>3060273</td>\n",
       "      <td>108832</td>\n",
       "      <td>6</td>\n",
       "      <td>prior</td>\n",
       "      <td>7</td>\n",
       "      <td>2</td>\n",
       "      <td>20</td>\n",
       "      <td>13.0</td>\n",
       "    </tr>\n",
       "    <tr>\n",
       "      <th>417452</th>\n",
       "      <td>444375</td>\n",
       "      <td>108832</td>\n",
       "      <td>7</td>\n",
       "      <td>prior</td>\n",
       "      <td>8</td>\n",
       "      <td>5</td>\n",
       "      <td>16</td>\n",
       "      <td>3.0</td>\n",
       "    </tr>\n",
       "    <tr>\n",
       "      <th>879195</th>\n",
       "      <td>936031</td>\n",
       "      <td>108832</td>\n",
       "      <td>7</td>\n",
       "      <td>prior</td>\n",
       "      <td>9</td>\n",
       "      <td>6</td>\n",
       "      <td>7</td>\n",
       "      <td>29.0</td>\n",
       "    </tr>\n",
       "    <tr>\n",
       "      <th>862642</th>\n",
       "      <td>918399</td>\n",
       "      <td>108832</td>\n",
       "      <td>6</td>\n",
       "      <td>prior</td>\n",
       "      <td>10</td>\n",
       "      <td>4</td>\n",
       "      <td>15</td>\n",
       "      <td>26.0</td>\n",
       "    </tr>\n",
       "    <tr>\n",
       "      <th>2681022</th>\n",
       "      <td>2852921</td>\n",
       "      <td>108832</td>\n",
       "      <td>4</td>\n",
       "      <td>prior</td>\n",
       "      <td>11</td>\n",
       "      <td>5</td>\n",
       "      <td>11</td>\n",
       "      <td>30.0</td>\n",
       "    </tr>\n",
       "    <tr>\n",
       "      <th>322908</th>\n",
       "      <td>343820</td>\n",
       "      <td>108832</td>\n",
       "      <td>4</td>\n",
       "      <td>prior</td>\n",
       "      <td>12</td>\n",
       "      <td>4</td>\n",
       "      <td>19</td>\n",
       "      <td>6.0</td>\n",
       "    </tr>\n",
       "    <tr>\n",
       "      <th>1153353</th>\n",
       "      <td>1227830</td>\n",
       "      <td>108832</td>\n",
       "      <td>8</td>\n",
       "      <td>prior</td>\n",
       "      <td>13</td>\n",
       "      <td>6</td>\n",
       "      <td>19</td>\n",
       "      <td>16.0</td>\n",
       "    </tr>\n",
       "    <tr>\n",
       "      <th>929146</th>\n",
       "      <td>989173</td>\n",
       "      <td>108832</td>\n",
       "      <td>5</td>\n",
       "      <td>prior</td>\n",
       "      <td>14</td>\n",
       "      <td>5</td>\n",
       "      <td>13</td>\n",
       "      <td>6.0</td>\n",
       "    </tr>\n",
       "    <tr>\n",
       "      <th>1325472</th>\n",
       "      <td>1410975</td>\n",
       "      <td>108832</td>\n",
       "      <td>2</td>\n",
       "      <td>prior</td>\n",
       "      <td>15</td>\n",
       "      <td>1</td>\n",
       "      <td>8</td>\n",
       "      <td>30.0</td>\n",
       "    </tr>\n",
       "    <tr>\n",
       "      <th>1272192</th>\n",
       "      <td>1354242</td>\n",
       "      <td>108832</td>\n",
       "      <td>8</td>\n",
       "      <td>prior</td>\n",
       "      <td>16</td>\n",
       "      <td>0</td>\n",
       "      <td>11</td>\n",
       "      <td>6.0</td>\n",
       "    </tr>\n",
       "    <tr>\n",
       "      <th>2135769</th>\n",
       "      <td>2273117</td>\n",
       "      <td>108832</td>\n",
       "      <td>11</td>\n",
       "      <td>prior</td>\n",
       "      <td>17</td>\n",
       "      <td>0</td>\n",
       "      <td>16</td>\n",
       "      <td>7.0</td>\n",
       "    </tr>\n",
       "    <tr>\n",
       "      <th>2824988</th>\n",
       "      <td>3006241</td>\n",
       "      <td>108832</td>\n",
       "      <td>7</td>\n",
       "      <td>prior</td>\n",
       "      <td>18</td>\n",
       "      <td>3</td>\n",
       "      <td>20</td>\n",
       "      <td>24.0</td>\n",
       "    </tr>\n",
       "    <tr>\n",
       "      <th>43054</th>\n",
       "      <td>45884</td>\n",
       "      <td>108832</td>\n",
       "      <td>7</td>\n",
       "      <td>prior</td>\n",
       "      <td>19</td>\n",
       "      <td>3</td>\n",
       "      <td>10</td>\n",
       "      <td>7.0</td>\n",
       "    </tr>\n",
       "    <tr>\n",
       "      <th>2865078</th>\n",
       "      <td>3048905</td>\n",
       "      <td>108832</td>\n",
       "      <td>8</td>\n",
       "      <td>prior</td>\n",
       "      <td>20</td>\n",
       "      <td>0</td>\n",
       "      <td>20</td>\n",
       "      <td>4.0</td>\n",
       "    </tr>\n",
       "    <tr>\n",
       "      <th>1857065</th>\n",
       "      <td>1976589</td>\n",
       "      <td>108832</td>\n",
       "      <td>12</td>\n",
       "      <td>prior</td>\n",
       "      <td>21</td>\n",
       "      <td>1</td>\n",
       "      <td>19</td>\n",
       "      <td>15.0</td>\n",
       "    </tr>\n",
       "    <tr>\n",
       "      <th>2064030</th>\n",
       "      <td>2196788</td>\n",
       "      <td>108832</td>\n",
       "      <td>4</td>\n",
       "      <td>prior</td>\n",
       "      <td>22</td>\n",
       "      <td>1</td>\n",
       "      <td>15</td>\n",
       "      <td>7.0</td>\n",
       "    </tr>\n",
       "    <tr>\n",
       "      <th>2574212</th>\n",
       "      <td>2739477</td>\n",
       "      <td>108832</td>\n",
       "      <td>6</td>\n",
       "      <td>prior</td>\n",
       "      <td>23</td>\n",
       "      <td>3</td>\n",
       "      <td>17</td>\n",
       "      <td>2.0</td>\n",
       "    </tr>\n",
       "    <tr>\n",
       "      <th>972202</th>\n",
       "      <td>1035067</td>\n",
       "      <td>108832</td>\n",
       "      <td>9</td>\n",
       "      <td>prior</td>\n",
       "      <td>24</td>\n",
       "      <td>0</td>\n",
       "      <td>9</td>\n",
       "      <td>11.0</td>\n",
       "    </tr>\n",
       "    <tr>\n",
       "      <th>45374</th>\n",
       "      <td>48350</td>\n",
       "      <td>108832</td>\n",
       "      <td>4</td>\n",
       "      <td>prior</td>\n",
       "      <td>25</td>\n",
       "      <td>0</td>\n",
       "      <td>9</td>\n",
       "      <td>14.0</td>\n",
       "    </tr>\n",
       "  </tbody>\n",
       "</table>\n",
       "</div>"
      ],
      "text/plain": [
       "         order_id  user_id  order_size eval_set  order_number  order_dow  \\\n",
       "1168         1225   108832           3    prior             1          4   \n",
       "2474503   2633424   108832          10    prior             2          3   \n",
       "2074349   2207730   108832           7    prior             3          1   \n",
       "1618114   1722444   108832           4    prior             4          0   \n",
       "1818437   1935556   108832          10    prior             5          5   \n",
       "9591        10171   108832           9    prior             6          3   \n",
       "2875743   3060273   108832           6    prior             7          2   \n",
       "417452     444375   108832           7    prior             8          5   \n",
       "879195     936031   108832           7    prior             9          6   \n",
       "862642     918399   108832           6    prior            10          4   \n",
       "2681022   2852921   108832           4    prior            11          5   \n",
       "322908     343820   108832           4    prior            12          4   \n",
       "1153353   1227830   108832           8    prior            13          6   \n",
       "929146     989173   108832           5    prior            14          5   \n",
       "1325472   1410975   108832           2    prior            15          1   \n",
       "1272192   1354242   108832           8    prior            16          0   \n",
       "2135769   2273117   108832          11    prior            17          0   \n",
       "2824988   3006241   108832           7    prior            18          3   \n",
       "43054       45884   108832           7    prior            19          3   \n",
       "2865078   3048905   108832           8    prior            20          0   \n",
       "1857065   1976589   108832          12    prior            21          1   \n",
       "2064030   2196788   108832           4    prior            22          1   \n",
       "2574212   2739477   108832           6    prior            23          3   \n",
       "972202    1035067   108832           9    prior            24          0   \n",
       "45374       48350   108832           4    prior            25          0   \n",
       "\n",
       "         order_hour_of_day  days_since_prior_order  \n",
       "1168                    16                     NaN  \n",
       "2474503                 17                    13.0  \n",
       "2074349                 14                    26.0  \n",
       "1618114                  9                    13.0  \n",
       "1818437                 14                    12.0  \n",
       "9591                    14                     5.0  \n",
       "2875743                 20                    13.0  \n",
       "417452                  16                     3.0  \n",
       "879195                   7                    29.0  \n",
       "862642                  15                    26.0  \n",
       "2681022                 11                    30.0  \n",
       "322908                  19                     6.0  \n",
       "1153353                 19                    16.0  \n",
       "929146                  13                     6.0  \n",
       "1325472                  8                    30.0  \n",
       "1272192                 11                     6.0  \n",
       "2135769                 16                     7.0  \n",
       "2824988                 20                    24.0  \n",
       "43054                   10                     7.0  \n",
       "2865078                 20                     4.0  \n",
       "1857065                 19                    15.0  \n",
       "2064030                 15                     7.0  \n",
       "2574212                 17                     2.0  \n",
       "972202                   9                    11.0  \n",
       "45374                    9                    14.0  "
      ]
     },
     "execution_count": 199,
     "metadata": {},
     "output_type": "execute_result"
    }
   ],
   "source": [
    "random_user = np.random.choice(unique_orders, 1)[0]\n",
    "add_order_size[lambda _df: _df['user_id'] == random_user]"
   ]
  },
  {
   "cell_type": "markdown",
   "metadata": {},
   "source": [
    "Something something fewer orders in short intervals?"
   ]
  }
 ],
 "metadata": {
  "kernelspec": {
   "display_name": "Python 2",
   "language": "python",
   "name": "python2"
  },
  "language_info": {
   "codemirror_mode": {
    "name": "ipython",
    "version": 2
   },
   "file_extension": ".py",
   "mimetype": "text/x-python",
   "name": "python",
   "nbconvert_exporter": "python",
   "pygments_lexer": "ipython2",
   "version": "2.7.10"
  }
 },
 "nbformat": 4,
 "nbformat_minor": 2
}
